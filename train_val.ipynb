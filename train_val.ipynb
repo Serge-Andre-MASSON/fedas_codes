{
 "cells": [
  {
   "cell_type": "code",
   "execution_count": null,
   "metadata": {},
   "outputs": [],
   "source": [
    "%load_ext autoreload\n",
    "%autoreload 2\n"
   ]
  },
  {
   "cell_type": "code",
   "execution_count": null,
   "metadata": {},
   "outputs": [],
   "source": [
    "\n",
    "from task.task import ValidationTraining\n",
    "\n",
    "\n",
    "data_path = \"data/train_technical_test.csv\" # Modify this if necessary\n",
    "\n",
    "task = ValidationTraining(\n",
    "    data_path=data_path,\n",
    "    validation_split=.3,\n",
    "    model_name=\"model\"\n",
    ")\n",
    "\n",
    "task.run()\n"
   ]
  },
  {
   "cell_type": "code",
   "execution_count": null,
   "metadata": {},
   "outputs": [],
   "source": [
    "import pickle\n",
    "\n",
    "\n",
    "with open(\"models/model_val.PICKLE\", \"rb\") as f:\n",
    "    checkpoint = pickle.load(f)\n",
    "\n",
    "summary = checkpoint[\"training_summary\"]\n"
   ]
  },
  {
   "cell_type": "code",
   "execution_count": null,
   "metadata": {},
   "outputs": [],
   "source": [
    "import matplotlib.pyplot as plt\n",
    "\n",
    "plt.figure(figsize=(16, 9))\n",
    "\n",
    "plt.subplot(121)\n",
    "plt.plot(summary.train_loss, label=\"train loss\")\n",
    "plt.plot(summary.val_loss, label=\"val loss\")\n",
    "plt.legend()\n",
    "\n",
    "plt.subplot(122)\n",
    "plt.plot(summary.val_accuracy, label=\"val acc\")\n",
    "plt.plot(summary.val_sub_accuracy, label=\"val sub acc\")\n",
    "plt.legend()\n"
   ]
  }
 ],
 "metadata": {
  "kernelspec": {
   "display_name": ".fedas_codes",
   "language": "python",
   "name": "python3"
  },
  "language_info": {
   "codemirror_mode": {
    "name": "ipython",
    "version": 3
   },
   "file_extension": ".py",
   "mimetype": "text/x-python",
   "name": "python",
   "nbconvert_exporter": "python",
   "pygments_lexer": "ipython3",
   "version": "3.10.6"
  },
  "orig_nbformat": 4
 },
 "nbformat": 4,
 "nbformat_minor": 2
}
