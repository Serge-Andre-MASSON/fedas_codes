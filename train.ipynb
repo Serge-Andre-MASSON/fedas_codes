{
 "cells": [
  {
   "cell_type": "code",
   "execution_count": null,
   "metadata": {},
   "outputs": [],
   "source": [
    "%load_ext autoreload\n",
    "%autoreload 2\n"
   ]
  },
  {
   "cell_type": "code",
   "execution_count": null,
   "metadata": {},
   "outputs": [],
   "source": [
    "\n",
    "from task.task import Training\n",
    "\n",
    "\n",
    "data_path = \"data/train_technical_test.csv\" # Modify this if necessary\n",
    "\n",
    "task = Training(\n",
    "    data_path=data_path,\n",
    "    model_name=\"example_model\"\n",
    ")\n",
    "\n",
    "task.run()\n"
   ]
  },
  {
   "cell_type": "code",
   "execution_count": null,
   "metadata": {},
   "outputs": [],
   "source": [
    "import pickle\n",
    "import matplotlib.pyplot as plt\n",
    "\n",
    "\n",
    "with open(\"models/example_model.PICKLE\", \"rb\") as f:\n",
    "    checkpoint = pickle.load(f)\n",
    "\n",
    "summary = checkpoint[\"training_summary\"]\n",
    "\n",
    "plt.plot(summary.train_loss, label=\"train loss\")\n"
   ]
  }
 ],
 "metadata": {
  "kernelspec": {
   "display_name": ".fedas_codes",
   "language": "python",
   "name": "python3"
  },
  "language_info": {
   "codemirror_mode": {
    "name": "ipython",
    "version": 3
   },
   "file_extension": ".py",
   "mimetype": "text/x-python",
   "name": "python",
   "nbconvert_exporter": "python",
   "pygments_lexer": "ipython3",
   "version": "3.10.6"
  },
  "orig_nbformat": 4
 },
 "nbformat": 4,
 "nbformat_minor": 2
}
